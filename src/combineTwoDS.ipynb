{
 "cells": [
  {
   "cell_type": "markdown",
   "id": "92ec0652",
   "metadata": {},
   "source": [
    "For merging the two datasets"
   ]
  },
  {
   "cell_type": "code",
   "execution_count": 27,
   "id": "6ee632d9",
   "metadata": {},
   "outputs": [
    {
     "name": "stdout",
     "output_type": "stream",
     "text": [
      "✅ Merged, standardized, and shuffled dataset saved. Shape: (8000, 2)\n",
      "                                                 URL      Label\n",
      "0                       obit-obits.com/d20091114zp21       safe\n",
      "1                           myspace.com/denigauthier       safe\n",
      "2  skateboardpark.com/skateboardpark/viewpark.asp...       safe\n",
      "3  http://algiba.com/index.php?option=com_content...  malicious\n",
      "4  https://mitsui-jyuku.mixh.jp/uploads/464ODNO38...  malicious\n"
     ]
    }
   ],
   "source": [
    "import pandas as pd\n",
    "\n",
    "# Load datasets\n",
    "df_old = pd.read_csv(r\"D:\\QRusaderTrainedModel\\originalData\\url_cleaned_reduced.csv\")  # columns: URL, Label\n",
    "df_new = pd.read_csv(r\"D:\\QRusaderTrainedModel\\originalData\\url_datasets.csv\")  # columns: URL, Label\n",
    "\n",
    "# -------------------------------\n",
    "# Map labels to only safe/malicious\n",
    "# -------------------------------\n",
    "# Old dataset\n",
    "old_mapping = {\n",
    "    \"benign\": \"safe\",\n",
    "    \"malware\": \"malicious\",\n",
    "    \"phishing\": \"malicious\",\n",
    "    \"defacement\": \"malicious\"\n",
    "}\n",
    "df_old['Label'] = df_old['Label'].map(old_mapping)\n",
    "\n",
    "# New dataset\n",
    "new_mapping = {\n",
    "    \"safe\": \"safe\",\n",
    "    \"unsafe\": \"malicious\"\n",
    "}\n",
    "df_new['Label'] = df_new['Label'].map(new_mapping)\n",
    "\n",
    "# -------------------------------\n",
    "# Merge and shuffle\n",
    "# -------------------------------\n",
    "df_merged = pd.concat([df_old, df_new], ignore_index=True)\n",
    "df_merged = df_merged.sample(frac=1, random_state=42).reset_index(drop=True)\n",
    "\n",
    "# Save merged CSV\n",
    "df_merged.to_csv(r\"D:\\QRusaderTrainedModel\\src\\merged_url_datasets.csv\", index=False)\n",
    "\n",
    "print(f\"✅ Merged, standardized, and shuffled dataset saved. Shape: {df_merged.shape}\")\n",
    "print(df_merged.head())\n"
   ]
  },
  {
   "cell_type": "code",
   "execution_count": null,
   "id": "5dd9c23f",
   "metadata": {},
   "outputs": [
    {
     "data": {
      "text/html": [
       "<div>\n",
       "<style scoped>\n",
       "    .dataframe tbody tr th:only-of-type {\n",
       "        vertical-align: middle;\n",
       "    }\n",
       "\n",
       "    .dataframe tbody tr th {\n",
       "        vertical-align: top;\n",
       "    }\n",
       "\n",
       "    .dataframe thead th {\n",
       "        text-align: right;\n",
       "    }\n",
       "</style>\n",
       "<table border=\"1\" class=\"dataframe\">\n",
       "  <thead>\n",
       "    <tr style=\"text-align: right;\">\n",
       "      <th></th>\n",
       "      <th>URL</th>\n",
       "      <th>Label</th>\n",
       "    </tr>\n",
       "  </thead>\n",
       "  <tbody>\n",
       "    <tr>\n",
       "      <th>0</th>\n",
       "      <td>obit-obits.com/d20091114zp21</td>\n",
       "      <td>safe</td>\n",
       "    </tr>\n",
       "    <tr>\n",
       "      <th>1</th>\n",
       "      <td>myspace.com/denigauthier</td>\n",
       "      <td>safe</td>\n",
       "    </tr>\n",
       "    <tr>\n",
       "      <th>2</th>\n",
       "      <td>skateboardpark.com/skateboardpark/viewpark.asp...</td>\n",
       "      <td>safe</td>\n",
       "    </tr>\n",
       "    <tr>\n",
       "      <th>3</th>\n",
       "      <td>http://algiba.com/index.php?option=com_content...</td>\n",
       "      <td>malicious</td>\n",
       "    </tr>\n",
       "    <tr>\n",
       "      <th>4</th>\n",
       "      <td>https://mitsui-jyuku.mixh.jp/uploads/464ODNO38...</td>\n",
       "      <td>malicious</td>\n",
       "    </tr>\n",
       "  </tbody>\n",
       "</table>\n",
       "</div>"
      ],
      "text/plain": [
       "                                                 URL      Label\n",
       "0                       obit-obits.com/d20091114zp21       safe\n",
       "1                           myspace.com/denigauthier       safe\n",
       "2  skateboardpark.com/skateboardpark/viewpark.asp...       safe\n",
       "3  http://algiba.com/index.php?option=com_content...  malicious\n",
       "4  https://mitsui-jyuku.mixh.jp/uploads/464ODNO38...  malicious"
      ]
     },
     "execution_count": 28,
     "metadata": {},
     "output_type": "execute_result"
    }
   ],
   "source": []
  }
 ],
 "metadata": {
  "kernelspec": {
   "display_name": ".venv",
   "language": "python",
   "name": "python3"
  },
  "language_info": {
   "codemirror_mode": {
    "name": "ipython",
    "version": 3
   },
   "file_extension": ".py",
   "mimetype": "text/x-python",
   "name": "python",
   "nbconvert_exporter": "python",
   "pygments_lexer": "ipython3",
   "version": "3.13.5"
  }
 },
 "nbformat": 4,
 "nbformat_minor": 5
}
